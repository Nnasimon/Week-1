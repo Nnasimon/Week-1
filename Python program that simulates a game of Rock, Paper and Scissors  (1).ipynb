{
 "cells": [
  {
   "cell_type": "code",
   "execution_count": 1,
   "id": "653f6938",
   "metadata": {},
   "outputs": [],
   "source": [
    "import random"
   ]
  },
  {
   "cell_type": "code",
   "execution_count": 2,
   "id": "a2e1bd9d",
   "metadata": {},
   "outputs": [],
   "source": [
    "def get_computer_choice():\n",
    "    \"\"\"Generates a random choice for the computer.\"\"\"\n",
    "    choices = [\"rock\", \"paper\", \"scissors\"]\n",
    "    return random.choice(choices)\n",
    "\n",
    "def determine_winner(user_choice, computer_choice):\n",
    "    \"\"\"Determines the winner based on the rules of Rock, Paper, Scissors.\"\"\"\n",
    "    if user_choice == computer_choice:\n",
    "        return \"It's a tie!\"\n",
    "\n",
    "    if (user_choice == \"rock\" and computer_choice == \"scissors\") or \\\n",
    "       (user_choice == \"scissors\" and computer_choice == \"paper\") or \\\n",
    "       (user_choice == \"paper\" and computer_choice == \"rock\"):\n",
    "        return \"You win!\"\n",
    "\n",
    "    return \"Computer wins!\""
   ]
  },
  {
   "cell_type": "code",
   "execution_count": 3,
   "id": "b9a02cd5",
   "metadata": {},
   "outputs": [
    {
     "name": "stdout",
     "output_type": "stream",
     "text": [
      "Welcome to Rock, Paper, Scissors!\n",
      "Enter your choice (rock, paper, or scissors): rock\n",
      "Computer chose: scissors\n",
      "You win!\n"
     ]
    }
   ],
   "source": [
    "def main():\n",
    "    \"\"\"Main function to run the Rock, Paper, Scissors game.\"\"\"\n",
    "    print(\"Welcome to Rock, Paper, Scissors!\")\n",
    "    \n",
    "    # Get the user's choice\n",
    "    user_choice = input(\"Enter your choice (rock, paper, or scissors): \").lower()\n",
    "    while user_choice not in [\"rock\", \"paper\", \"scissors\"]:\n",
    "        print(\"Invalid choice. Please try again.\")\n",
    "        user_choice = input(\"Enter your choice (rock, paper, or scissors): \").lower()\n",
    "\n",
    "    # Get the computer's choice\n",
    "    computer_choice = get_computer_choice()\n",
    "    print(f\"Computer chose: {computer_choice}\")\n",
    "\n",
    "    # Determine the winner\n",
    "    result = determine_winner(user_choice, computer_choice)\n",
    "    print(result)\n",
    "\n",
    "# Run the main function\n",
    "if __name__ == \"__main__\":\n",
    "    main()"
   ]
  },
  {
   "cell_type": "code",
   "execution_count": null,
   "id": "9a849e8c",
   "metadata": {},
   "outputs": [],
   "source": []
  }
 ],
 "metadata": {
  "kernelspec": {
   "display_name": "Python 3 (ipykernel)",
   "language": "python",
   "name": "python3"
  },
  "language_info": {
   "codemirror_mode": {
    "name": "ipython",
    "version": 3
   },
   "file_extension": ".py",
   "mimetype": "text/x-python",
   "name": "python",
   "nbconvert_exporter": "python",
   "pygments_lexer": "ipython3",
   "version": "3.11.5"
  }
 },
 "nbformat": 4,
 "nbformat_minor": 5
}
