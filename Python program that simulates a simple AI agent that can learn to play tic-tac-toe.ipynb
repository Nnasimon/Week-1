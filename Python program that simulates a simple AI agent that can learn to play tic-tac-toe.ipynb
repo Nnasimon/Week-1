{
 "cells": [
  {
   "cell_type": "code",
   "execution_count": 1,
   "id": "a99b356c",
   "metadata": {},
   "outputs": [],
   "source": [
    "import random"
   ]
  },
  {
   "cell_type": "code",
   "execution_count": 2,
   "id": "c06ba8ab",
   "metadata": {},
   "outputs": [],
   "source": [
    "# Define the game board as a 3x3 grid\n",
    "def create_board():\n",
    "    return [[\" \" for _ in range(3)] for _ in range(3)]"
   ]
  },
  {
   "cell_type": "code",
   "execution_count": 3,
   "id": "65e63edb",
   "metadata": {},
   "outputs": [],
   "source": [
    "# Display the game board\n",
    "def print_board(board):\n",
    "    for row in board:\n",
    "        print(\" | \".join(row))\n",
    "        print(\"-\" * 5)"
   ]
  },
  {
   "cell_type": "code",
   "execution_count": 4,
   "id": "5ba78f19",
   "metadata": {},
   "outputs": [],
   "source": [
    "# Check if a player has won\n",
    "def check_winner(board, player):\n",
    "    for row in board:\n",
    "        if all(cell == player for cell in row):\n",
    "            return True\n",
    "    for col in range(3):\n",
    "        if all(row[col] == player for row in board):\n",
    "            return True\n",
    "    if all(board[i][i] == player for i in range(3)) or all(board[i][2 - i] == player for i in range(3)):\n",
    "        return True\n",
    "    return False"
   ]
  },
  {
   "cell_type": "code",
   "execution_count": 5,
   "id": "616790d4",
   "metadata": {},
   "outputs": [],
   "source": [
    "# Check if the game is a tie\n",
    "def check_tie(board):\n",
    "    return all(cell != \" \" for row in board for cell in row)"
   ]
  },
  {
   "cell_type": "code",
   "execution_count": 6,
   "id": "e248a8e3",
   "metadata": {},
   "outputs": [],
   "source": [
    "# Get a list of available moves\n",
    "def get_available_moves(board):\n",
    "    return [(i, j) for i in range(3) for j in range(3) if board[i][j] == \" \"]"
   ]
  },
  {
   "cell_type": "code",
   "execution_count": 7,
   "id": "2fbfaf96",
   "metadata": {},
   "outputs": [],
   "source": [
    "# Make a move on the board\n",
    "def make_move(board, move, player):\n",
    "    i, j = move\n",
    "    board[i][j] = player"
   ]
  },
  {
   "cell_type": "code",
   "execution_count": 8,
   "id": "2474ba93",
   "metadata": {},
   "outputs": [],
   "source": [
    "# AI agent to make a move\n",
    "def ai_move(board):\n",
    "    moves = get_available_moves(board)\n",
    "    return random.choice(moves)"
   ]
  },
  {
   "cell_type": "code",
   "execution_count": 9,
   "id": "5f40ece5",
   "metadata": {},
   "outputs": [],
   "source": [
    "# Main game loop\n",
    "def play_game():\n",
    "    board = create_board()\n",
    "    current_player = \"X\"\n",
    "    while True:\n",
    "        print_board(board)\n",
    "        if current_player == \"X\":\n",
    "            print(\"Player X's turn!\")\n",
    "            while True:\n",
    "                try:\n",
    "                    move = tuple(map(int, input(\"Enter your move (row and column): \").split()))\n",
    "                    if move in get_available_moves(board):\n",
    "                        break\n",
    "                    else:\n",
    "                        print(\"Invalid move. Try again.\")\n",
    "                except ValueError:\n",
    "                    print(\"Invalid input. Please enter row and column as two numbers separated by a space.\")\n",
    "        else:\n",
    "            print(\"AI's turn!\")\n",
    "            move = ai_move(board)\n",
    "\n",
    "        make_move(board, move, current_player)\n",
    "\n",
    "        if check_winner(board, current_player):\n",
    "            print_board(board)\n",
    "            print(f\"Player {current_player} wins!\")\n",
    "            break\n",
    "        elif check_tie(board):\n",
    "            print_board(board)\n",
    "            print(\"It's a tie!\")\n",
    "            break\n",
    "\n",
    "        current_player = \"O\" if current_player == \"X\" else \"X\""
   ]
  },
  {
   "cell_type": "code",
   "execution_count": null,
   "id": "f34289a3",
   "metadata": {},
   "outputs": [
    {
     "name": "stdout",
     "output_type": "stream",
     "text": [
      "  |   |  \n",
      "-----\n",
      "  |   |  \n",
      "-----\n",
      "  |   |  \n",
      "-----\n",
      "Player X's turn!\n"
     ]
    }
   ],
   "source": [
    "# Call the main game loop\n",
    "if __name__ == \"__main__\":\n",
    "    play_game()"
   ]
  },
  {
   "cell_type": "code",
   "execution_count": null,
   "id": "f5f6a1b7",
   "metadata": {},
   "outputs": [],
   "source": []
  }
 ],
 "metadata": {
  "kernelspec": {
   "display_name": "Python 3 (ipykernel)",
   "language": "python",
   "name": "python3"
  },
  "language_info": {
   "codemirror_mode": {
    "name": "ipython",
    "version": 3
   },
   "file_extension": ".py",
   "mimetype": "text/x-python",
   "name": "python",
   "nbconvert_exporter": "python",
   "pygments_lexer": "ipython3",
   "version": "3.11.5"
  }
 },
 "nbformat": 4,
 "nbformat_minor": 5
}
